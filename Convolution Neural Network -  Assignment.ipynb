{
 "cells": [
  {
   "cell_type": "code",
   "execution_count": 1,
   "metadata": {},
   "outputs": [
    {
     "name": "stderr",
     "output_type": "stream",
     "text": [
      "C:\\Users\\sriva\\Anaconda3\\lib\\site-packages\\tensorflow\\python\\framework\\dtypes.py:516: FutureWarning: Passing (type, 1) or '1type' as a synonym of type is deprecated; in a future version of numpy, it will be understood as (type, (1,)) / '(1,)type'.\n",
      "  _np_qint8 = np.dtype([(\"qint8\", np.int8, 1)])\n",
      "C:\\Users\\sriva\\Anaconda3\\lib\\site-packages\\tensorflow\\python\\framework\\dtypes.py:517: FutureWarning: Passing (type, 1) or '1type' as a synonym of type is deprecated; in a future version of numpy, it will be understood as (type, (1,)) / '(1,)type'.\n",
      "  _np_quint8 = np.dtype([(\"quint8\", np.uint8, 1)])\n",
      "C:\\Users\\sriva\\Anaconda3\\lib\\site-packages\\tensorflow\\python\\framework\\dtypes.py:518: FutureWarning: Passing (type, 1) or '1type' as a synonym of type is deprecated; in a future version of numpy, it will be understood as (type, (1,)) / '(1,)type'.\n",
      "  _np_qint16 = np.dtype([(\"qint16\", np.int16, 1)])\n",
      "C:\\Users\\sriva\\Anaconda3\\lib\\site-packages\\tensorflow\\python\\framework\\dtypes.py:519: FutureWarning: Passing (type, 1) or '1type' as a synonym of type is deprecated; in a future version of numpy, it will be understood as (type, (1,)) / '(1,)type'.\n",
      "  _np_quint16 = np.dtype([(\"quint16\", np.uint16, 1)])\n",
      "C:\\Users\\sriva\\Anaconda3\\lib\\site-packages\\tensorflow\\python\\framework\\dtypes.py:520: FutureWarning: Passing (type, 1) or '1type' as a synonym of type is deprecated; in a future version of numpy, it will be understood as (type, (1,)) / '(1,)type'.\n",
      "  _np_qint32 = np.dtype([(\"qint32\", np.int32, 1)])\n",
      "C:\\Users\\sriva\\Anaconda3\\lib\\site-packages\\tensorflow\\python\\framework\\dtypes.py:525: FutureWarning: Passing (type, 1) or '1type' as a synonym of type is deprecated; in a future version of numpy, it will be understood as (type, (1,)) / '(1,)type'.\n",
      "  np_resource = np.dtype([(\"resource\", np.ubyte, 1)])\n",
      "C:\\Users\\sriva\\Anaconda3\\lib\\site-packages\\tensorboard\\compat\\tensorflow_stub\\dtypes.py:541: FutureWarning: Passing (type, 1) or '1type' as a synonym of type is deprecated; in a future version of numpy, it will be understood as (type, (1,)) / '(1,)type'.\n",
      "  _np_qint8 = np.dtype([(\"qint8\", np.int8, 1)])\n",
      "C:\\Users\\sriva\\Anaconda3\\lib\\site-packages\\tensorboard\\compat\\tensorflow_stub\\dtypes.py:542: FutureWarning: Passing (type, 1) or '1type' as a synonym of type is deprecated; in a future version of numpy, it will be understood as (type, (1,)) / '(1,)type'.\n",
      "  _np_quint8 = np.dtype([(\"quint8\", np.uint8, 1)])\n",
      "C:\\Users\\sriva\\Anaconda3\\lib\\site-packages\\tensorboard\\compat\\tensorflow_stub\\dtypes.py:543: FutureWarning: Passing (type, 1) or '1type' as a synonym of type is deprecated; in a future version of numpy, it will be understood as (type, (1,)) / '(1,)type'.\n",
      "  _np_qint16 = np.dtype([(\"qint16\", np.int16, 1)])\n",
      "C:\\Users\\sriva\\Anaconda3\\lib\\site-packages\\tensorboard\\compat\\tensorflow_stub\\dtypes.py:544: FutureWarning: Passing (type, 1) or '1type' as a synonym of type is deprecated; in a future version of numpy, it will be understood as (type, (1,)) / '(1,)type'.\n",
      "  _np_quint16 = np.dtype([(\"quint16\", np.uint16, 1)])\n",
      "C:\\Users\\sriva\\Anaconda3\\lib\\site-packages\\tensorboard\\compat\\tensorflow_stub\\dtypes.py:545: FutureWarning: Passing (type, 1) or '1type' as a synonym of type is deprecated; in a future version of numpy, it will be understood as (type, (1,)) / '(1,)type'.\n",
      "  _np_qint32 = np.dtype([(\"qint32\", np.int32, 1)])\n",
      "C:\\Users\\sriva\\Anaconda3\\lib\\site-packages\\tensorboard\\compat\\tensorflow_stub\\dtypes.py:550: FutureWarning: Passing (type, 1) or '1type' as a synonym of type is deprecated; in a future version of numpy, it will be understood as (type, (1,)) / '(1,)type'.\n",
      "  np_resource = np.dtype([(\"resource\", np.ubyte, 1)])\n"
     ]
    }
   ],
   "source": [
    "from tensorflow.keras.models import Sequential\n",
    "from tensorflow.keras.layers import Dense\n",
    "from tensorflow.keras.layers import Convolution2D\n",
    "from tensorflow.keras.layers import MaxPooling2D\n",
    "from tensorflow.keras.layers import Flatten"
   ]
  },
  {
   "cell_type": "code",
   "execution_count": 2,
   "metadata": {},
   "outputs": [
    {
     "name": "stderr",
     "output_type": "stream",
     "text": [
      "Using TensorFlow backend.\n"
     ]
    }
   ],
   "source": [
    "from keras.preprocessing.image import ImageDataGenerator\n",
    "train_datagen = ImageDataGenerator(rescale = 1./255,shear_range = 0.2,zoom_range = 0.2,horizontal_flip = True)\n",
    "test_datagen = ImageDataGenerator(rescale = 1./255)"
   ]
  },
  {
   "cell_type": "code",
   "execution_count": 3,
   "metadata": {},
   "outputs": [
    {
     "name": "stdout",
     "output_type": "stream",
     "text": [
      "Found 1495 images belonging to 5 classes.\n",
      "Found 640 images belonging to 5 classes.\n"
     ]
    }
   ],
   "source": [
    "x_train = train_datagen.flow_from_directory(r\"C:\\Users\\sriva\\OneDrive\\Desktop\\Educational Documents\\Smart Bridge Assignment solutions\\Crop-animal data\\trainset\",target_size = (64,64),batch_size = 32,class_mode = \"categorical\")\n",
    "x_test = test_datagen.flow_from_directory(r\"C:\\Users\\sriva\\OneDrive\\Desktop\\Educational Documents\\Smart Bridge Assignment solutions\\Crop-animal data\\testset\",target_size = (64,64),batch_size = 32,class_mode = \"categorical\")\n"
   ]
  },
  {
   "cell_type": "code",
   "execution_count": 4,
   "metadata": {},
   "outputs": [
    {
     "data": {
      "text/plain": [
       "{'bears': 0, 'crows': 1, 'elephants': 2, 'racoons': 3, 'rats': 4}"
      ]
     },
     "execution_count": 4,
     "metadata": {},
     "output_type": "execute_result"
    }
   ],
   "source": [
    "x_train.class_indices"
   ]
  },
  {
   "cell_type": "code",
   "execution_count": 5,
   "metadata": {},
   "outputs": [],
   "source": [
    "model = Sequential()"
   ]
  },
  {
   "cell_type": "code",
   "execution_count": 6,
   "metadata": {},
   "outputs": [
    {
     "name": "stdout",
     "output_type": "stream",
     "text": [
      "WARNING:tensorflow:From C:\\Users\\sriva\\Anaconda3\\lib\\site-packages\\tensorflow\\python\\ops\\init_ops.py:1251: calling VarianceScaling.__init__ (from tensorflow.python.ops.init_ops) with dtype is deprecated and will be removed in a future version.\n",
      "Instructions for updating:\n",
      "Call initializer instance with the dtype argument instead of passing it to the constructor\n"
     ]
    }
   ],
   "source": [
    "model.add(Convolution2D(32,(3,3),input_shape = (64,64,3),activation = \"relu\"))"
   ]
  },
  {
   "cell_type": "code",
   "execution_count": 7,
   "metadata": {},
   "outputs": [],
   "source": [
    "model.add(MaxPooling2D(pool_size = (2,2)))"
   ]
  },
  {
   "cell_type": "code",
   "execution_count": 8,
   "metadata": {},
   "outputs": [],
   "source": [
    "model.add(Flatten())"
   ]
  },
  {
   "cell_type": "code",
   "execution_count": 9,
   "metadata": {},
   "outputs": [
    {
     "name": "stdout",
     "output_type": "stream",
     "text": [
      "WARNING:tensorflow:From C:\\Users\\sriva\\Anaconda3\\lib\\site-packages\\tensorflow\\python\\keras\\initializers.py:119: calling RandomUniform.__init__ (from tensorflow.python.ops.init_ops) with dtype is deprecated and will be removed in a future version.\n",
      "Instructions for updating:\n",
      "Call initializer instance with the dtype argument instead of passing it to the constructor\n"
     ]
    }
   ],
   "source": [
    "model.add(Dense(units = 512,activation = \"relu\",kernel_initializer = \"random_uniform\"))"
   ]
  },
  {
   "cell_type": "code",
   "execution_count": 10,
   "metadata": {},
   "outputs": [],
   "source": [
    "model.add(Dense(units = 512,activation = \"relu\",kernel_initializer = \"random_uniform\"))"
   ]
  },
  {
   "cell_type": "code",
   "execution_count": 11,
   "metadata": {},
   "outputs": [],
   "source": [
    "model.add(Dense(units = 5,activation = \"softmax\",kernel_initializer = \"random_uniform\"))"
   ]
  },
  {
   "cell_type": "code",
   "execution_count": 12,
   "metadata": {},
   "outputs": [],
   "source": [
    "model.compile(loss = \"categorical_crossentropy\",optimizer = \"adam\", metrics = [\"accuracy\"])"
   ]
  },
  {
   "cell_type": "code",
   "execution_count": 13,
   "metadata": {},
   "outputs": [
    {
     "name": "stdout",
     "output_type": "stream",
     "text": [
      "Epoch 1/25\n",
      "47/47 [==============================] - 25s 529ms/step - loss: 1.5362 - acc: 0.3291 - val_loss: 1.0645 - val_acc: 0.6094\n",
      "Epoch 2/25\n",
      "47/47 [==============================] - 9s 184ms/step - loss: 1.1348 - acc: 0.5418 - val_loss: 1.1968 - val_acc: 0.4984\n",
      "Epoch 3/25\n",
      "47/47 [==============================] - 9s 192ms/step - loss: 0.9365 - acc: 0.6542 - val_loss: 1.0038 - val_acc: 0.6187\n",
      "Epoch 4/25\n",
      "47/47 [==============================] - 9s 182ms/step - loss: 0.8155 - acc: 0.6983 - val_loss: 0.6039 - val_acc: 0.7703\n",
      "Epoch 5/25\n",
      "47/47 [==============================] - 9s 188ms/step - loss: 0.6986 - acc: 0.7371 - val_loss: 0.7221 - val_acc: 0.7266\n",
      "Epoch 6/25\n",
      "47/47 [==============================] - 9s 184ms/step - loss: 0.6065 - acc: 0.7692 - val_loss: 0.5890 - val_acc: 0.7797\n",
      "Epoch 7/25\n",
      "47/47 [==============================] - 9s 196ms/step - loss: 0.5046 - acc: 0.8161 - val_loss: 0.5113 - val_acc: 0.8219\n",
      "Epoch 8/25\n",
      "47/47 [==============================] - 9s 185ms/step - loss: 0.4551 - acc: 0.8381 - val_loss: 0.6151 - val_acc: 0.7547\n",
      "Epoch 9/25\n",
      "47/47 [==============================] - 9s 185ms/step - loss: 0.3885 - acc: 0.8535 - val_loss: 0.4687 - val_acc: 0.8375\n",
      "Epoch 10/25\n",
      "47/47 [==============================] - 9s 190ms/step - loss: 0.3110 - acc: 0.8836 - val_loss: 0.2474 - val_acc: 0.9062\n",
      "Epoch 11/25\n",
      "47/47 [==============================] - 9s 199ms/step - loss: 0.2762 - acc: 0.9124 - val_loss: 0.3276 - val_acc: 0.8687\n",
      "Epoch 12/25\n",
      "47/47 [==============================] - 8s 179ms/step - loss: 0.2147 - acc: 0.9284 - val_loss: 0.1489 - val_acc: 0.9516\n",
      "Epoch 13/25\n",
      "47/47 [==============================] - 9s 193ms/step - loss: 0.2439 - acc: 0.9137 - val_loss: 0.1201 - val_acc: 0.9453\n",
      "Epoch 14/25\n",
      "47/47 [==============================] - 11s 226ms/step - loss: 0.2032 - acc: 0.9358 - val_loss: 0.2993 - val_acc: 0.8938\n",
      "Epoch 15/25\n",
      "47/47 [==============================] - 9s 190ms/step - loss: 0.1988 - acc: 0.9425 - val_loss: 0.1623 - val_acc: 0.9312\n",
      "Epoch 16/25\n",
      "47/47 [==============================] - 9s 190ms/step - loss: 0.1265 - acc: 0.9565 - val_loss: 0.0836 - val_acc: 0.9672\n",
      "Epoch 17/25\n",
      "47/47 [==============================] - 9s 201ms/step - loss: 0.1206 - acc: 0.9599 - val_loss: 0.2075 - val_acc: 0.9359\n",
      "Epoch 18/25\n",
      "47/47 [==============================] - 9s 198ms/step - loss: 0.1179 - acc: 0.9585 - val_loss: 0.1182 - val_acc: 0.9656\n",
      "Epoch 19/25\n",
      "47/47 [==============================] - 10s 204ms/step - loss: 0.1280 - acc: 0.9612 - val_loss: 0.0992 - val_acc: 0.9656\n",
      "Epoch 20/25\n",
      "47/47 [==============================] - 9s 187ms/step - loss: 0.0947 - acc: 0.9686 - val_loss: 0.0928 - val_acc: 0.9766\n",
      "Epoch 21/25\n",
      "47/47 [==============================] - 10s 208ms/step - loss: 0.1247 - acc: 0.9565 - val_loss: 0.0565 - val_acc: 0.9937\n",
      "Epoch 22/25\n",
      "47/47 [==============================] - 9s 197ms/step - loss: 0.0989 - acc: 0.9666 - val_loss: 0.1053 - val_acc: 0.9703\n",
      "Epoch 23/25\n",
      "47/47 [==============================] - 10s 206ms/step - loss: 0.0960 - acc: 0.9732 - val_loss: 0.0486 - val_acc: 0.9906\n",
      "Epoch 24/25\n",
      "47/47 [==============================] - 10s 218ms/step - loss: 0.1066 - acc: 0.9639 - val_loss: 0.0636 - val_acc: 0.9781\n",
      "Epoch 25/25\n",
      "47/47 [==============================] - 10s 221ms/step - loss: 0.0873 - acc: 0.9666 - val_loss: 0.0691 - val_acc: 0.9781\n"
     ]
    },
    {
     "data": {
      "text/plain": [
       "<tensorflow.python.keras.callbacks.History at 0x1be3c5d9438>"
      ]
     },
     "execution_count": 13,
     "metadata": {},
     "output_type": "execute_result"
    }
   ],
   "source": [
    "model.fit_generator(x_train,steps_per_epoch = 47,epochs = 25,validation_data = x_test, validation_steps = 20)"
   ]
  },
  {
   "cell_type": "code",
   "execution_count": 14,
   "metadata": {},
   "outputs": [],
   "source": [
    "model.save(\"animal1.h5\")"
   ]
  }
 ],
 "metadata": {
  "kernelspec": {
   "display_name": "Python 3",
   "language": "python",
   "name": "python3"
  },
  "language_info": {
   "codemirror_mode": {
    "name": "ipython",
    "version": 3
   },
   "file_extension": ".py",
   "mimetype": "text/x-python",
   "name": "python",
   "nbconvert_exporter": "python",
   "pygments_lexer": "ipython3",
   "version": "3.7.3"
  }
 },
 "nbformat": 4,
 "nbformat_minor": 2
}
